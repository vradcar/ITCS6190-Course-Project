{
 "cells": [
  {
   "cell_type": "markdown",
   "id": "668e1db9",
   "metadata": {},
   "source": [
    "# Complex Queries with PySpark\n",
    "## LinkedIn Job Postings Analysis using Spark SQL"
   ]
  },
  {
   "cell_type": "code",
   "execution_count": null,
   "id": "873846ea",
   "metadata": {},
   "outputs": [],
   "source": [
    "# Install PySpark if not already installed\n",
    "!pip install pyspark"
   ]
  },
  {
   "cell_type": "code",
   "execution_count": null,
   "id": "966ab68f",
   "metadata": {},
   "outputs": [],
   "source": [
    "from pyspark.sql import SparkSession\n",
    "from pyspark.sql.functions import col, count, desc, avg, rank, window\n",
    "from pyspark.sql.window import Window\n",
    "import matplotlib.pyplot as plt\n",
    "import seaborn as sns\n",
    "import pandas as pd"
   ]
  },
  {
   "cell_type": "code",
   "execution_count": null,
   "id": "b5f87072",
   "metadata": {},
   "outputs": [],
   "source": [
    "# Initialize Spark Session\n",
    "spark = SparkSession.builder \\\n",
    "    .appName(\"LinkedIn Job Analysis\") \\\n",
    "    .config(\"spark.driver.memory\", \"4g\") \\\n",
    "    .config(\"spark.sql.shuffle.partitions\", \"4\") \\\n",
    "    .getOrCreate()\n",
    "\n",
    "print(f\"Spark Version: {spark.version}\")\n",
    "print(f\"Spark Session Created: {spark}\")"
   ]
  },
  {
   "cell_type": "markdown",
   "id": "51722c68",
   "metadata": {},
   "source": [
    "## Load Data into Spark DataFrames"
   ]
  },
  {
   "cell_type": "code",
   "execution_count": null,
   "id": "a8ee8740",
   "metadata": {},
   "outputs": [],
   "source": [
    "# Load all datasets\n",
    "postings = spark.read.csv(r\"../data/postings_cleaned.csv\", header=True, inferSchema=True)\n",
    "job_skills = spark.read.csv(r\"../data/jobs/job_skills.csv\", header=True, inferSchema=True)\n",
    "skill_map = spark.read.csv(r\"../data/mappings/skills.csv\", header=True, inferSchema=True)\n",
    "job_industries = spark.read.csv(r\"../data/jobs/job_industries.csv\", header=True, inferSchema=True)\n",
    "industry_map = spark.read.csv(r\"../data/mappings/industries.csv\", header=True, inferSchema=True)\n",
    "company_ind = spark.read.csv(r\"../data/companies/company_industries.csv\", header=True, inferSchema=True)\n",
    "\n",
    "print(\"Data loaded successfully!\")\n",
    "print(f\"Postings count: {postings.count()}\")\n",
    "print(f\"Job skills count: {job_skills.count()}\")\n",
    "print(f\"Industries count: {industry_map.count()}\")"
   ]
  },
  {
   "cell_type": "markdown",
   "id": "efd6f6e8",
   "metadata": {},
   "source": [
    "## Complex Query 1: Top Skills by Industry with Ranking\n",
    "This query demonstrates:\n",
    "- Multiple JOIN operations\n",
    "- Window functions for ranking\n",
    "- GROUP BY and aggregations"
   ]
  },
  {
   "cell_type": "code",
   "execution_count": null,
   "id": "8c671d75",
   "metadata": {},
   "outputs": [],
   "source": [
    "# Clean industry map (drop nulls)\n",
    "industry_map_clean = industry_map.dropna()\n",
    "\n",
    "# Complex query: Top 10 skills per industry\n",
    "skills_by_industry = job_skills \\\n",
    "    .join(skill_map, \"skill_abr\") \\\n",
    "    .join(job_industries, \"job_id\") \\\n",
    "    .join(industry_map_clean, \"industry_id\") \\\n",
    "    .groupBy(\"industry_name\", \"skill_name\") \\\n",
    "    .agg(count(\"*\").alias(\"skill_count\")) \\\n",
    "    .withColumn(\"rank\", rank().over(Window.partitionBy(\"industry_name\").orderBy(desc(\"skill_count\")))) \\\n",
    "    .filter(col(\"rank\") <= 10) \\\n",
    "    .orderBy(\"industry_name\", \"rank\")\n",
    "\n",
    "print(\"=== Top 10 Skills by Industry ===\")\n",
    "skills_by_industry.show(50, truncate=False)"
   ]
  },
  {
   "cell_type": "code",
   "execution_count": null,
   "id": "f54b433e",
   "metadata": {},
   "outputs": [],
   "source": [
    "# Convert to pandas for visualization\n",
    "skills_by_industry_pd = skills_by_industry.toPandas()\n",
    "print(f\"Total rows: {len(skills_by_industry_pd)}\")\n",
    "skills_by_industry_pd.head(20)"
   ]
  },
  {
   "cell_type": "markdown",
   "id": "cf698cbc",
   "metadata": {},
   "source": [
    "## Complex Query 2: Average Skills Required by Industry\n",
    "Analyzes skill complexity across different industries"
   ]
  },
  {
   "cell_type": "code",
   "execution_count": null,
   "id": "c95ae45f",
   "metadata": {},
   "outputs": [],
   "source": [
    "# Query: Average number of skills per job by industry\n",
    "multi_skill_jobs = job_skills \\\n",
    "    .groupBy(\"job_id\") \\\n",
    "    .agg(count(\"skill_abr\").alias(\"num_skills\")) \\\n",
    "    .join(job_industries, \"job_id\") \\\n",
    "    .join(industry_map_clean, \"industry_id\") \\\n",
    "    .groupBy(\"industry_name\") \\\n",
    "    .agg(\n",
    "        avg(\"num_skills\").alias(\"avg_skills_required\"),\n",
    "        count(\"job_id\").alias(\"total_jobs\")\n",
    "    ) \\\n",
    "    .orderBy(desc(\"avg_skills_required\"))\n",
    "\n",
    "print(\"=== Average Skills Required by Industry ===\")\n",
    "multi_skill_jobs.show(30, truncate=False)"
   ]
  },
  {
   "cell_type": "code",
   "execution_count": null,
   "id": "0f52597e",
   "metadata": {},
   "outputs": [],
   "source": [
    "# Convert to pandas\n",
    "avg_skills_pd = multi_skill_jobs.toPandas()\n",
    "avg_skills_pd.head(20)"
   ]
  },
  {
   "cell_type": "markdown",
   "id": "1fb65266",
   "metadata": {},
   "source": [
    "## Complex Query 3: Cross-Industry Skill Overlap Analysis\n",
    "Identifies skills that are common across multiple industries"
   ]
  },
  {
   "cell_type": "code",
   "execution_count": null,
   "id": "f46624cf",
   "metadata": {},
   "outputs": [],
   "source": [
    "# Query: Skills appearing in multiple industries\n",
    "cross_industry_skills = job_skills \\\n",
    "    .join(skill_map, \"skill_abr\") \\\n",
    "    .join(job_industries, \"job_id\") \\\n",
    "    .join(industry_map_clean, \"industry_id\") \\\n",
    "    .select(\"skill_name\", \"industry_name\") \\\n",
    "    .distinct() \\\n",
    "    .groupBy(\"skill_name\") \\\n",
    "    .agg(count(\"industry_name\").alias(\"num_industries\")) \\\n",
    "    .orderBy(desc(\"num_industries\"))\n",
    "\n",
    "print(\"=== Skills Across Multiple Industries ===\")\n",
    "cross_industry_skills.show(30, truncate=False)"
   ]
  },
  {
   "cell_type": "code",
   "execution_count": null,
   "id": "1cf939e0",
   "metadata": {},
   "outputs": [],
   "source": [
    "cross_industry_pd = cross_industry_skills.toPandas()\n",
    "cross_industry_pd.head(20)"
   ]
  },
  {
   "cell_type": "markdown",
   "id": "14618509",
   "metadata": {},
   "source": [
    "## Save Results for Later Use"
   ]
  },
  {
   "cell_type": "code",
   "execution_count": null,
   "id": "b7de615a",
   "metadata": {},
   "outputs": [],
   "source": [
    "# Create output directory\n",
    "import os\n",
    "os.makedirs(\"../analytics_output/query_results\", exist_ok=True)\n",
    "\n",
    "# Save as parquet for efficient storage\n",
    "skills_by_industry.write.mode(\"overwrite\").parquet(\"../analytics_output/query_results/skills_by_industry\")\n",
    "multi_skill_jobs.write.mode(\"overwrite\").parquet(\"../analytics_output/query_results/avg_skills_by_industry\")\n",
    "cross_industry_skills.write.mode(\"overwrite\").parquet(\"../analytics_output/query_results/cross_industry_skills\")\n",
    "\n",
    "# Also save as CSV for easy viewing\n",
    "skills_by_industry_pd.to_csv(\"../analytics_output/query_results/skills_by_industry.csv\", index=False)\n",
    "avg_skills_pd.to_csv(\"../analytics_output/query_results/avg_skills_by_industry.csv\", index=False)\n",
    "cross_industry_pd.to_csv(\"../analytics_output/query_results/cross_industry_skills.csv\", index=False)\n",
    "\n",
    "print(\"✅ Results saved successfully!\")"
   ]
  },
  {
   "cell_type": "markdown",
   "id": "e6e92a6c",
   "metadata": {},
   "source": [
    "## Visualizations"
   ]
  },
  {
   "cell_type": "code",
   "execution_count": null,
   "id": "db8065a0",
   "metadata": {},
   "outputs": [],
   "source": [
    "# Create visuals directory\n",
    "os.makedirs(\"../analytics_output/visuals\", exist_ok=True)\n",
    "\n",
    "# Plot 1: Top 10 Skills in Top 5 Industries\n",
    "top_5_industries = avg_skills_pd.nlargest(5, 'avg_skills_required')['industry_name'].tolist()\n",
    "\n",
    "fig, axes = plt.subplots(2, 3, figsize=(18, 10))\n",
    "fig.suptitle('Top 10 Skills by Industry', fontsize=16, fontweight='bold')\n",
    "\n",
    "for idx, industry in enumerate(top_5_industries):\n",
    "    data = skills_by_industry_pd[skills_by_industry_pd['industry_name'] == industry].head(10)\n",
    "    ax = axes[idx // 3, idx % 3]\n",
    "    sns.barplot(data=data, y='skill_name', x='skill_count', ax=ax, palette='viridis')\n",
    "    ax.set_title(f\"{industry}\", fontsize=10, fontweight='bold')\n",
    "    ax.set_xlabel(\"Job Postings\")\n",
    "    ax.set_ylabel(\"\")\n",
    "\n",
    "# Hide the 6th subplot\n",
    "axes[1, 2].axis('off')\n",
    "\n",
    "plt.tight_layout()\n",
    "plt.savefig(\"../analytics_output/visuals/top_skills_by_industry.png\", dpi=300, bbox_inches='tight')\n",
    "plt.show()\n",
    "\n",
    "print(\"✅ Visualization 1 saved!\")"
   ]
  },
  {
   "cell_type": "code",
   "execution_count": null,
   "id": "6a2558e4",
   "metadata": {},
   "outputs": [],
   "source": [
    "# Plot 2: Average Skills Required by Industry\n",
    "plt.figure(figsize=(12, 8))\n",
    "top_20_avg = avg_skills_pd.head(20)\n",
    "sns.barplot(data=top_20_avg, y='industry_name', x='avg_skills_required', palette='magma')\n",
    "plt.title('Average Number of Skills Required by Industry (Top 20)', fontsize=14, fontweight='bold')\n",
    "plt.xlabel('Average Skills Required', fontsize=12)\n",
    "plt.ylabel('Industry', fontsize=12)\n",
    "plt.tight_layout()\n",
    "plt.savefig(\"../analytics_output/visuals/avg_skills_by_industry.png\", dpi=300, bbox_inches='tight')\n",
    "plt.show()\n",
    "\n",
    "print(\"✅ Visualization 2 saved!\")"
   ]
  },
  {
   "cell_type": "code",
   "execution_count": null,
   "id": "d8875c9a",
   "metadata": {},
   "outputs": [],
   "source": [
    "# Plot 3: Cross-Industry Skills (Most Versatile Skills)\n",
    "plt.figure(figsize=(12, 8))\n",
    "top_30_cross = cross_industry_pd.head(30)\n",
    "sns.barplot(data=top_30_cross, y='skill_name', x='num_industries', palette='coolwarm')\n",
    "plt.title('Most Versatile Skills (Appearing Across Industries)', fontsize=14, fontweight='bold')\n",
    "plt.xlabel('Number of Industries', fontsize=12)\n",
    "plt.ylabel('Skill Name', fontsize=12)\n",
    "plt.tight_layout()\n",
    "plt.savefig(\"../analytics_output/visuals/cross_industry_skills.png\", dpi=300, bbox_inches='tight')\n",
    "plt.show()\n",
    "\n",
    "print(\"✅ Visualization 3 saved!\")"
   ]
  },
  {
   "cell_type": "markdown",
   "id": "11f2f0cb",
   "metadata": {},
   "source": [
    "## Summary Statistics for Demo"
   ]
  },
  {
   "cell_type": "code",
   "execution_count": null,
   "id": "ba9e9222",
   "metadata": {},
   "outputs": [],
   "source": [
    "print(\"=\"*60)\n",
    "print(\"COMPLEX QUERIES SUMMARY\")\n",
    "print(\"=\"*60)\n",
    "print(f\"\\n📊 Total Industries Analyzed: {industry_map_clean.count()}\")\n",
    "print(f\"📊 Total Unique Skills: {skill_map.count()}\")\n",
    "print(f\"📊 Total Job Postings: {postings.count()}\")\n",
    "print(f\"\\n🔍 Query 1: Identified top 10 skills for each industry\")\n",
    "print(f\"🔍 Query 2: Calculated average skills required across {avg_skills_pd.shape[0]} industries\")\n",
    "print(f\"🔍 Query 3: Found {cross_industry_pd.shape[0]} skills used across industries\")\n",
    "print(f\"\\n✅ All results saved to: ../analytics_output/query_results/\")\n",
    "print(f\"✅ All visualizations saved to: ../analytics_output/visuals/\")\n",
    "print(\"=\"*60)"
   ]
  },
  {
   "cell_type": "code",
   "execution_count": null,
   "id": "6949b453",
   "metadata": {},
   "outputs": [],
   "source": [
    "# Stop Spark session\n",
    "# spark.stop()"
   ]
  }
 ],
 "metadata": {
  "language_info": {
   "name": "python"
  }
 },
 "nbformat": 4,
 "nbformat_minor": 5
}
